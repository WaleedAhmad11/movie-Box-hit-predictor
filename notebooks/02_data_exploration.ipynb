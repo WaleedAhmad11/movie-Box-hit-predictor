{
 "cells": [
  {
   "cell_type": "code",
   "execution_count": 1,
   "metadata": {},
   "outputs": [],
   "source": [
    "import pandas as pd\n",
    "import json"
   ]
  },
  {
   "cell_type": "code",
   "execution_count": 5,
   "metadata": {},
   "outputs": [
    {
     "data": {
      "text/plain": [
       "Index(['Unnamed: 0', 'budget', 'popularity', 'vote_count',\n",
       "       'top_cast_avg_rating', 'director_encoded', 'release_year',\n",
       "       'release_month', 'Action', 'Adventure', 'Animation', 'Comedy', 'Crime',\n",
       "       'Documentary', 'Drama', 'Family', 'Fantasy', 'Foreign', 'History',\n",
       "       'Horror', 'Music', 'Mystery', 'Romance', 'Science Fiction', 'TV Movie',\n",
       "       'Thriller', 'War', 'Western', 'title', 'genres', 'director', 'top_cast',\n",
       "       'release_date', 'vote_average', 'revenue'],\n",
       "      dtype='object')"
      ]
     },
     "execution_count": 5,
     "metadata": {},
     "output_type": "execute_result"
    }
   ],
   "source": [
    "path = r\"C:\\Users\\l1f22bscs0387\\Desktop\\movie_hit_predictor\\data_cleaned\\first_cleaned_dataset.csv\"\n",
    "clean_df = pd.read_csv(path)\n",
    "clean_df.columns"
   ]
  },
  {
   "cell_type": "code",
   "execution_count": 6,
   "metadata": {},
   "outputs": [],
   "source": [
    "path_movies_metadata = r\"C:\\Users\\l1f22bscs0387\\Desktop\\movie_hit_predictor\\data_raw\\movies_metadata.csv\"\n",
    "path_credits = r\"C:\\Users\\l1f22bscs0387\\Desktop\\movie_hit_predictor\\data_raw\\credits.csv\""
   ]
  },
  {
   "cell_type": "code",
   "execution_count": 7,
   "metadata": {},
   "outputs": [
    {
     "name": "stderr",
     "output_type": "stream",
     "text": [
      "C:\\Users\\l1f22bscs0387\\AppData\\Local\\Temp\\ipykernel_33156\\2751431668.py:1: DtypeWarning: Columns (10) have mixed types. Specify dtype option on import or set low_memory=False.\n",
      "  movies_metadata = pd.read_csv(path_movies_metadata)\n"
     ]
    }
   ],
   "source": [
    "movies_metadata = pd.read_csv(path_movies_metadata)\n",
    "credits = pd.read_csv(path_credits)"
   ]
  },
  {
   "cell_type": "code",
   "execution_count": 9,
   "metadata": {},
   "outputs": [
    {
     "data": {
      "text/plain": [
       "Index(['adult', 'belongs_to_collection', 'budget', 'genres', 'homepage', 'id',\n",
       "       'imdb_id', 'original_language', 'original_title', 'overview',\n",
       "       'popularity', 'poster_path', 'production_companies',\n",
       "       'production_countries', 'release_date', 'revenue', 'runtime',\n",
       "       'spoken_languages', 'status', 'tagline', 'title', 'video',\n",
       "       'vote_average', 'vote_count'],\n",
       "      dtype='object')"
      ]
     },
     "execution_count": 9,
     "metadata": {},
     "output_type": "execute_result"
    }
   ],
   "source": [
    "movies_metadata.columns"
   ]
  },
  {
   "cell_type": "code",
   "execution_count": 10,
   "metadata": {},
   "outputs": [
    {
     "data": {
      "text/plain": [
       "Index(['cast', 'crew', 'id'], dtype='object')"
      ]
     },
     "execution_count": 10,
     "metadata": {},
     "output_type": "execute_result"
    }
   ],
   "source": [
    "credits.columns"
   ]
  },
  {
   "cell_type": "code",
   "execution_count": 11,
   "metadata": {},
   "outputs": [],
   "source": [
    "movies_metadata['id'] = movies_metadata['id'].astype(str)\n",
    "credits['id'] = credits['id'].astype(str)"
   ]
  },
  {
   "cell_type": "code",
   "execution_count": 13,
   "metadata": {},
   "outputs": [
    {
     "data": {
      "text/plain": [
       "Index(['adult', 'belongs_to_collection', 'budget', 'genres', 'homepage', 'id',\n",
       "       'imdb_id', 'original_language', 'original_title', 'overview',\n",
       "       'popularity', 'poster_path', 'production_companies',\n",
       "       'production_countries', 'release_date', 'revenue', 'runtime',\n",
       "       'spoken_languages', 'status', 'tagline', 'title', 'video',\n",
       "       'vote_average', 'vote_count', 'cast', 'crew'],\n",
       "      dtype='object')"
      ]
     },
     "execution_count": 13,
     "metadata": {},
     "output_type": "execute_result"
    }
   ],
   "source": [
    "merged_df = pd.merge(movies_metadata,credits,on='id',how='inner')\n",
    "merged_df.columns"
   ]
  },
  {
   "cell_type": "code",
   "execution_count": 15,
   "metadata": {},
   "outputs": [
    {
     "data": {
      "text/plain": [
       "Index(['title', 'budget', 'revenue', 'genres', 'release_date', 'cast', 'crew',\n",
       "       'popularity', 'vote_average', 'vote_count'],\n",
       "      dtype='object')"
      ]
     },
     "execution_count": 15,
     "metadata": {},
     "output_type": "execute_result"
    }
   ],
   "source": [
    "columns_to_keep = [\n",
    "    'title', 'budget', 'revenue', 'genres', 'release_date', \n",
    "    'cast', 'crew', 'popularity', 'vote_average', 'vote_count'\n",
    "]\n",
    "\n",
    "merged_df = merged_df[columns_to_keep]\n",
    "merged_df.columns\n"
   ]
  },
  {
   "cell_type": "code",
   "execution_count": 16,
   "metadata": {},
   "outputs": [
    {
     "name": "stdout",
     "output_type": "stream",
     "text": [
      "<class 'pandas.core.frame.DataFrame'>\n",
      "RangeIndex: 45538 entries, 0 to 45537\n",
      "Data columns (total 10 columns):\n",
      " #   Column        Non-Null Count  Dtype  \n",
      "---  ------        --------------  -----  \n",
      " 0   title         45535 non-null  object \n",
      " 1   budget        45538 non-null  object \n",
      " 2   revenue       45535 non-null  float64\n",
      " 3   genres        45538 non-null  object \n",
      " 4   release_date  45451 non-null  object \n",
      " 5   cast          45538 non-null  object \n",
      " 6   crew          45538 non-null  object \n",
      " 7   popularity    45535 non-null  object \n",
      " 8   vote_average  45535 non-null  float64\n",
      " 9   vote_count    45535 non-null  float64\n",
      "dtypes: float64(3), object(7)\n",
      "memory usage: 3.5+ MB\n"
     ]
    }
   ],
   "source": [
    "merged_df.info()"
   ]
  },
  {
   "cell_type": "code",
   "execution_count": 24,
   "metadata": {},
   "outputs": [],
   "source": [
    "clean_df2 = merged_df.copy()"
   ]
  },
  {
   "cell_type": "code",
   "execution_count": 25,
   "metadata": {},
   "outputs": [],
   "source": [
    "numeric_cols = ['budget', 'revenue', 'popularity', 'vote_average', 'vote_count']\n",
    "\n",
    "for col in numeric_cols:\n",
    "    clean_df2[col] = pd.to_numeric(clean_df2[col])\n"
   ]
  },
  {
   "cell_type": "code",
   "execution_count": 31,
   "metadata": {},
   "outputs": [
    {
     "name": "stdout",
     "output_type": "stream",
     "text": [
      "datetime64[ns]\n"
     ]
    }
   ],
   "source": [
    "clean_df2['release_date'] = pd.to_datetime(clean_df2['release_date'])\n",
    "print(clean_df2['release_date'].dtype)"
   ]
  },
  {
   "cell_type": "code",
   "execution_count": 32,
   "metadata": {},
   "outputs": [],
   "source": [
    "clean_df2['release_year'] = clean_df2['release_date'].dt.year\n",
    "clean_df2['release_month'] = clean_df2['release_date'].dt.month"
   ]
  },
  {
   "cell_type": "code",
   "execution_count": 38,
   "metadata": {},
   "outputs": [],
   "source": [
    "clean_df2 = clean_df2.dropna(subset=['title','release_date'])"
   ]
  },
  {
   "cell_type": "code",
   "execution_count": 40,
   "metadata": {},
   "outputs": [
    {
     "name": "stdout",
     "output_type": "stream",
     "text": [
      "<class 'pandas.core.frame.DataFrame'>\n",
      "Index: 45451 entries, 0 to 45537\n",
      "Data columns (total 12 columns):\n",
      " #   Column         Non-Null Count  Dtype         \n",
      "---  ------         --------------  -----         \n",
      " 0   title          45451 non-null  object        \n",
      " 1   budget         45451 non-null  int64         \n",
      " 2   revenue        45451 non-null  float64       \n",
      " 3   genres         45451 non-null  object        \n",
      " 4   release_date   45451 non-null  datetime64[ns]\n",
      " 5   cast           45451 non-null  object        \n",
      " 6   crew           45451 non-null  object        \n",
      " 7   popularity     45451 non-null  float64       \n",
      " 8   vote_average   45451 non-null  float64       \n",
      " 9   vote_count     45451 non-null  float64       \n",
      " 10  release_year   45451 non-null  float64       \n",
      " 11  release_month  45451 non-null  float64       \n",
      "dtypes: datetime64[ns](1), float64(6), int64(1), object(4)\n",
      "memory usage: 4.5+ MB\n"
     ]
    }
   ],
   "source": [
    "clean_df2.info()"
   ]
  },
  {
   "cell_type": "code",
   "execution_count": 41,
   "metadata": {},
   "outputs": [
    {
     "data": {
      "text/plain": [
       "Index(['Unnamed: 0', 'budget', 'popularity', 'vote_count',\n",
       "       'top_cast_avg_rating', 'director_encoded', 'release_year',\n",
       "       'release_month', 'Action', 'Adventure', 'Animation', 'Comedy', 'Crime',\n",
       "       'Documentary', 'Drama', 'Family', 'Fantasy', 'Foreign', 'History',\n",
       "       'Horror', 'Music', 'Mystery', 'Romance', 'Science Fiction', 'TV Movie',\n",
       "       'Thriller', 'War', 'Western', 'title', 'genres', 'director', 'top_cast',\n",
       "       'release_date', 'vote_average', 'revenue'],\n",
       "      dtype='object')"
      ]
     },
     "execution_count": 41,
     "metadata": {},
     "output_type": "execute_result"
    }
   ],
   "source": [
    "clean_df.columns"
   ]
  },
  {
   "cell_type": "code",
   "execution_count": 44,
   "metadata": {},
   "outputs": [],
   "source": [
    "def parse_json_col(col):\n",
    "    try:\n",
    "        return json.loads(col.replace(\"'\", '\"'))\n",
    "    except:\n",
    "        return []\n"
   ]
  },
  {
   "cell_type": "code",
   "execution_count": 45,
   "metadata": {},
   "outputs": [],
   "source": [
    "# Extract director\n",
    "clean_df2['director'] = clean_df2['crew'].apply(\n",
    "    lambda x: next((d['name'] for d in parse_json_col(x) if d.get('job') == 'Director'), None)\n",
    ")"
   ]
  },
  {
   "cell_type": "code",
   "execution_count": 52,
   "metadata": {},
   "outputs": [],
   "source": [
    "from sklearn.preprocessing import LabelEncoder, MultiLabelBinarizer\n",
    "\n",
    "# Encode directors (reusing encoder from first dataset if available)\n",
    "director_encoder = LabelEncoder()\n",
    "clean_df2['director_encoded'] = director_encoder.fit_transform(clean_df2['director'])"
   ]
  },
  {
   "cell_type": "code",
   "execution_count": 70,
   "metadata": {},
   "outputs": [
    {
     "name": "stdout",
     "output_type": "stream",
     "text": [
      "count    45451.000000\n",
      "mean         5.379583\n",
      "std          1.708624\n",
      "min          0.000000\n",
      "25%          5.155556\n",
      "50%          5.806667\n",
      "75%          6.247826\n",
      "max         10.000000\n",
      "Name: top_cast_avg_rating, dtype: float64\n"
     ]
    },
    {
     "data": {
      "text/html": [
       "<div>\n",
       "<style scoped>\n",
       "    .dataframe tbody tr th:only-of-type {\n",
       "        vertical-align: middle;\n",
       "    }\n",
       "\n",
       "    .dataframe tbody tr th {\n",
       "        vertical-align: top;\n",
       "    }\n",
       "\n",
       "    .dataframe thead th {\n",
       "        text-align: right;\n",
       "    }\n",
       "</style>\n",
       "<table border=\"1\" class=\"dataframe\">\n",
       "  <thead>\n",
       "    <tr style=\"text-align: right;\">\n",
       "      <th></th>\n",
       "      <th>title</th>\n",
       "      <th>top_cast</th>\n",
       "      <th>top_cast_avg_rating</th>\n",
       "    </tr>\n",
       "  </thead>\n",
       "  <tbody>\n",
       "    <tr>\n",
       "      <th>0</th>\n",
       "      <td>Toy Story</td>\n",
       "      <td>[Tom Hanks, Tim Allen, Don Rickles]</td>\n",
       "      <td>6.056255</td>\n",
       "    </tr>\n",
       "    <tr>\n",
       "      <th>1</th>\n",
       "      <td>Jumanji</td>\n",
       "      <td>[Robin Williams, Jonathan Hyde, Kirsten Dunst]</td>\n",
       "      <td>6.051724</td>\n",
       "    </tr>\n",
       "    <tr>\n",
       "      <th>2</th>\n",
       "      <td>Grumpier Old Men</td>\n",
       "      <td>[Walter Matthau, Jack Lemmon, Ann-Margret]</td>\n",
       "      <td>6.164306</td>\n",
       "    </tr>\n",
       "    <tr>\n",
       "      <th>3</th>\n",
       "      <td>Waiting to Exhale</td>\n",
       "      <td>[Whitney Houston, Angela Bassett, Loretta Devine]</td>\n",
       "      <td>5.641813</td>\n",
       "    </tr>\n",
       "    <tr>\n",
       "      <th>4</th>\n",
       "      <td>Father of the Bride Part II</td>\n",
       "      <td>[Steve Martin, Diane Keaton, Martin Short]</td>\n",
       "      <td>5.873770</td>\n",
       "    </tr>\n",
       "    <tr>\n",
       "      <th>5</th>\n",
       "      <td>Heat</td>\n",
       "      <td>[Al Pacino, Robert De Niro, Val Kilmer]</td>\n",
       "      <td>6.255878</td>\n",
       "    </tr>\n",
       "    <tr>\n",
       "      <th>6</th>\n",
       "      <td>Sabrina</td>\n",
       "      <td>[Harrison Ford, Julia Ormond, Greg Kinnear]</td>\n",
       "      <td>6.121617</td>\n",
       "    </tr>\n",
       "    <tr>\n",
       "      <th>7</th>\n",
       "      <td>Tom and Huck</td>\n",
       "      <td>[Jonathan Taylor Thomas, Brad Renfro, Rachael ...</td>\n",
       "      <td>5.763147</td>\n",
       "    </tr>\n",
       "    <tr>\n",
       "      <th>8</th>\n",
       "      <td>Sudden Death</td>\n",
       "      <td>[Jean-Claude Van Damme, Powers Boothe, Dorian ...</td>\n",
       "      <td>5.250724</td>\n",
       "    </tr>\n",
       "    <tr>\n",
       "      <th>9</th>\n",
       "      <td>GoldenEye</td>\n",
       "      <td>[Pierce Brosnan, Sean Bean, Izabella Scorupco]</td>\n",
       "      <td>6.000185</td>\n",
       "    </tr>\n",
       "  </tbody>\n",
       "</table>\n",
       "</div>"
      ],
      "text/plain": [
       "                         title  \\\n",
       "0                    Toy Story   \n",
       "1                      Jumanji   \n",
       "2             Grumpier Old Men   \n",
       "3            Waiting to Exhale   \n",
       "4  Father of the Bride Part II   \n",
       "5                         Heat   \n",
       "6                      Sabrina   \n",
       "7                 Tom and Huck   \n",
       "8                 Sudden Death   \n",
       "9                    GoldenEye   \n",
       "\n",
       "                                            top_cast  top_cast_avg_rating  \n",
       "0                [Tom Hanks, Tim Allen, Don Rickles]             6.056255  \n",
       "1     [Robin Williams, Jonathan Hyde, Kirsten Dunst]             6.051724  \n",
       "2         [Walter Matthau, Jack Lemmon, Ann-Margret]             6.164306  \n",
       "3  [Whitney Houston, Angela Bassett, Loretta Devine]             5.641813  \n",
       "4         [Steve Martin, Diane Keaton, Martin Short]             5.873770  \n",
       "5            [Al Pacino, Robert De Niro, Val Kilmer]             6.255878  \n",
       "6        [Harrison Ford, Julia Ormond, Greg Kinnear]             6.121617  \n",
       "7  [Jonathan Taylor Thomas, Brad Renfro, Rachael ...             5.763147  \n",
       "8  [Jean-Claude Van Damme, Powers Boothe, Dorian ...             5.250724  \n",
       "9     [Pierce Brosnan, Sean Bean, Izabella Scorupco]             6.000185  "
      ]
     },
     "execution_count": 70,
     "metadata": {},
     "output_type": "execute_result"
    }
   ],
   "source": [
    "import json, ast\n",
    "from collections import defaultdict\n",
    "\n",
    "# --- Step 1: Safer JSON parser ---\n",
    "def parse_json_col_safe(col):\n",
    "    try:\n",
    "        return json.loads(col.replace(\"'\", '\"'))  # try normal JSON parse\n",
    "    except:\n",
    "        try:\n",
    "            return ast.literal_eval(col)  # fallback to Python-style list/dict\n",
    "        except:\n",
    "            return []  # return empty if both fail\n",
    "\n",
    "# --- Step 2: Extract top 3 cast members ---\n",
    "clean_df2['top_cast'] = clean_df2['cast'].apply(\n",
    "    lambda x: [d.get('name', None) for d in parse_json_col_safe(x)[:3] if isinstance(d, dict)]\n",
    ")\n",
    "\n",
    "# --- Step 3: Compute average rating per actor ---\n",
    "actor_ratings2 = defaultdict(list)\n",
    "for _, row in clean_df2.iterrows():\n",
    "    for actor in row['top_cast']:\n",
    "        if actor:  # skip None\n",
    "            actor_ratings2[actor].append(row['vote_average'])\n",
    "\n",
    "actor_avg_rating2 = {actor: sum(r) / len(r) for actor, r in actor_ratings2.items()}\n",
    "\n",
    "# --- Step 4: Compute cast quality (average rating of top 3 actors) ---\n",
    "def top_cast_avg_rating(top_cast):\n",
    "    ratings = [actor_avg_rating2.get(actor, 0) for actor in top_cast]\n",
    "    return sum(ratings) / len(ratings) if ratings else 0\n",
    "\n",
    "clean_df2['top_cast_avg_rating'] = clean_df2['top_cast'].apply(top_cast_avg_rating)\n",
    "\n",
    "# --- Step 5: Inspect results ---\n",
    "print(clean_df2['top_cast_avg_rating'].describe())\n",
    "clean_df2[['title', 'top_cast', 'top_cast_avg_rating']].head(10)\n"
   ]
  },
  {
   "cell_type": "code",
   "execution_count": 71,
   "metadata": {},
   "outputs": [
    {
     "data": {
      "text/plain": [
       "Index(['title', 'budget', 'revenue', 'genres', 'release_date', 'cast', 'crew',\n",
       "       'popularity', 'vote_average', 'vote_count', 'release_year',\n",
       "       'release_month', 'director', 'director_encoded', 'top_cast',\n",
       "       'top_cast_avg_rating'],\n",
       "      dtype='object')"
      ]
     },
     "execution_count": 71,
     "metadata": {},
     "output_type": "execute_result"
    }
   ],
   "source": [
    "clean_df2.columns"
   ]
  },
  {
   "cell_type": "code",
   "execution_count": 77,
   "metadata": {},
   "outputs": [],
   "source": [
    "import numpy as np\n",
    "import pandas as pd\n",
    "import ast\n",
    "from collections import defaultdict\n",
    "from sklearn.preprocessing import MultiLabelBinarizer\n",
    "\n",
    "# -----------------------------\n",
    "# 1️⃣ Log-transform numeric features\n",
    "# -----------------------------\n",
    "clean_df2['budget_log'] = np.log1p(clean_df2['budget'])\n",
    "clean_df2['revenue_log'] = np.log1p(clean_df2['revenue'])\n",
    "\n",
    "# -----------------------------\n",
    "# 2️⃣ Profit ratio\n",
    "# -----------------------------\n",
    "clean_df2['profit_ratio'] = np.where(\n",
    "    clean_df2['budget'] > 0,\n",
    "    (clean_df2['revenue'] - clean_df2['budget']) / clean_df2['budget'],\n",
    "    0\n",
    ")\n",
    "\n",
    "# -----------------------------\n",
    "# 3️⃣ Parse and encode genres\n",
    "# -----------------------------\n",
    "def parse_genres(x):\n",
    "    try:\n",
    "        if isinstance(x, str):\n",
    "            data = ast.literal_eval(x)\n",
    "            return [d['name'] for d in data if isinstance(d, dict) and 'name' in d]\n",
    "        return []\n",
    "    except:\n",
    "        return []\n",
    "\n",
    "clean_df2['genres_list'] = clean_df2['genres'].apply(parse_genres)\n",
    "\n",
    "mlb = MultiLabelBinarizer()\n",
    "genre_dummies = pd.DataFrame(\n",
    "    mlb.fit_transform(clean_df2['genres_list']),\n",
    "    columns=mlb.classes_,\n",
    "    index=clean_df2.index\n",
    ")\n",
    "\n",
    "clean_df2 = pd.concat([clean_df2, genre_dummies], axis=1)\n",
    "\n",
    "# -----------------------------\n",
    "# 4️⃣ Ensure director encoding is safe\n",
    "# -----------------------------\n",
    "clean_df2['director_encoded'] = clean_df2['director_encoded'].fillna(-1).astype(int)\n",
    "\n",
    "# -----------------------------\n",
    "# 5️⃣ Ensure cast rating column exists\n",
    "# -----------------------------\n",
    "if 'top_cast_avg_rating' not in clean_df2.columns:\n",
    "    # In case not computed yet\n",
    "    actor_ratings2 = defaultdict(list)\n",
    "    for _, row in clean_df2.iterrows():\n",
    "        for actor in [d['name'] for d in ast.literal_eval(row['cast'])[:3]]:\n",
    "            actor_ratings2[actor].append(row['vote_average'])\n",
    "    actor_avg_rating2 = {a: np.mean(r) for a, r in actor_ratings2.items()}\n",
    "\n",
    "    def top_cast_avg_rating(top_cast):\n",
    "        ratings = [actor_avg_rating2.get(actor, 0) for actor in top_cast]\n",
    "        return np.mean(ratings) if ratings else 0\n",
    "\n",
    "    clean_df2['top_cast_avg_rating'] = clean_df2['top_cast'].apply(top_cast_avg_rating)\n",
    "\n",
    "# -----------------------------\n",
    "# 6️⃣ Add release season\n",
    "# -----------------------------\n",
    "def get_season(month):\n",
    "    if month in [12, 1, 2]:\n",
    "        return 'Winter'\n",
    "    elif month in [3, 4, 5]:\n",
    "        return 'Spring'\n",
    "    elif month in [6, 7, 8]:\n",
    "        return 'Summer'\n",
    "    else:\n",
    "        return 'Fall'\n",
    "\n",
    "clean_df2['release_season'] = clean_df2['release_month'].apply(get_season)\n",
    "\n",
    "# One-hot encode release season\n",
    "season_dummies = pd.get_dummies(clean_df2['release_season'], prefix='season')\n",
    "clean_df2 = pd.concat([clean_df2, season_dummies], axis=1)\n",
    "\n",
    "# -----------------------------\n",
    "# 7️⃣ Select final columns\n",
    "# -----------------------------\n",
    "final_cols = [\n",
    "    'title', 'budget_log', 'revenue_log', 'profit_ratio', 'popularity',\n",
    "    'vote_average', 'vote_count', 'director_encoded', 'top_cast_avg_rating',\n",
    "    'release_year', 'release_month'\n",
    "] + list(genre_dummies.columns) + list(season_dummies.columns)\n",
    "\n"
   ]
  },
  {
   "cell_type": "code",
   "execution_count": 78,
   "metadata": {},
   "outputs": [],
   "source": [
    "# Convert all boolean columns (True/False) to 0/1 integers\n",
    "for col in clean_df2.select_dtypes('bool').columns:\n",
    "    clean_df2[col] = clean_df2[col].astype(int)\n"
   ]
  },
  {
   "cell_type": "code",
   "execution_count": 79,
   "metadata": {},
   "outputs": [
    {
     "data": {
      "text/html": [
       "<div>\n",
       "<style scoped>\n",
       "    .dataframe tbody tr th:only-of-type {\n",
       "        vertical-align: middle;\n",
       "    }\n",
       "\n",
       "    .dataframe tbody tr th {\n",
       "        vertical-align: top;\n",
       "    }\n",
       "\n",
       "    .dataframe thead th {\n",
       "        text-align: right;\n",
       "    }\n",
       "</style>\n",
       "<table border=\"1\" class=\"dataframe\">\n",
       "  <thead>\n",
       "    <tr style=\"text-align: right;\">\n",
       "      <th></th>\n",
       "      <th>title</th>\n",
       "      <th>budget_log</th>\n",
       "      <th>revenue_log</th>\n",
       "      <th>profit_ratio</th>\n",
       "      <th>popularity</th>\n",
       "      <th>vote_average</th>\n",
       "      <th>vote_count</th>\n",
       "      <th>director_encoded</th>\n",
       "      <th>top_cast_avg_rating</th>\n",
       "      <th>release_year</th>\n",
       "      <th>...</th>\n",
       "      <th>War</th>\n",
       "      <th>War</th>\n",
       "      <th>Western</th>\n",
       "      <th>Western</th>\n",
       "      <th>Western</th>\n",
       "      <th>Western</th>\n",
       "      <th>season_Winter</th>\n",
       "      <th>season_Winter</th>\n",
       "      <th>season_Winter</th>\n",
       "      <th>season_Winter</th>\n",
       "    </tr>\n",
       "  </thead>\n",
       "  <tbody>\n",
       "    <tr>\n",
       "      <th>0</th>\n",
       "      <td>Toy Story</td>\n",
       "      <td>17.216708</td>\n",
       "      <td>19.738573</td>\n",
       "      <td>11.451801</td>\n",
       "      <td>21.946943</td>\n",
       "      <td>7.7</td>\n",
       "      <td>5415.0</td>\n",
       "      <td>2528</td>\n",
       "      <td>6.056255</td>\n",
       "      <td>1970.0</td>\n",
       "      <td>...</td>\n",
       "      <td>0</td>\n",
       "      <td>0</td>\n",
       "      <td>0</td>\n",
       "      <td>0</td>\n",
       "      <td>0</td>\n",
       "      <td>0</td>\n",
       "      <td>1</td>\n",
       "      <td>1</td>\n",
       "      <td>1</td>\n",
       "      <td>1</td>\n",
       "    </tr>\n",
       "    <tr>\n",
       "      <th>1</th>\n",
       "      <td>Jumanji</td>\n",
       "      <td>17.989898</td>\n",
       "      <td>19.386893</td>\n",
       "      <td>3.043035</td>\n",
       "      <td>17.015539</td>\n",
       "      <td>6.9</td>\n",
       "      <td>2413.0</td>\n",
       "      <td>2528</td>\n",
       "      <td>6.051724</td>\n",
       "      <td>1970.0</td>\n",
       "      <td>...</td>\n",
       "      <td>0</td>\n",
       "      <td>0</td>\n",
       "      <td>0</td>\n",
       "      <td>0</td>\n",
       "      <td>0</td>\n",
       "      <td>0</td>\n",
       "      <td>1</td>\n",
       "      <td>1</td>\n",
       "      <td>1</td>\n",
       "      <td>1</td>\n",
       "    </tr>\n",
       "    <tr>\n",
       "      <th>2</th>\n",
       "      <td>Grumpier Old Men</td>\n",
       "      <td>0.000000</td>\n",
       "      <td>0.000000</td>\n",
       "      <td>0.000000</td>\n",
       "      <td>11.712900</td>\n",
       "      <td>6.5</td>\n",
       "      <td>92.0</td>\n",
       "      <td>2528</td>\n",
       "      <td>6.164306</td>\n",
       "      <td>1970.0</td>\n",
       "      <td>...</td>\n",
       "      <td>0</td>\n",
       "      <td>0</td>\n",
       "      <td>0</td>\n",
       "      <td>0</td>\n",
       "      <td>0</td>\n",
       "      <td>0</td>\n",
       "      <td>1</td>\n",
       "      <td>1</td>\n",
       "      <td>1</td>\n",
       "      <td>1</td>\n",
       "    </tr>\n",
       "    <tr>\n",
       "      <th>3</th>\n",
       "      <td>Waiting to Exhale</td>\n",
       "      <td>16.588099</td>\n",
       "      <td>18.215526</td>\n",
       "      <td>4.090760</td>\n",
       "      <td>3.859495</td>\n",
       "      <td>6.1</td>\n",
       "      <td>34.0</td>\n",
       "      <td>2528</td>\n",
       "      <td>5.641813</td>\n",
       "      <td>1970.0</td>\n",
       "      <td>...</td>\n",
       "      <td>0</td>\n",
       "      <td>0</td>\n",
       "      <td>0</td>\n",
       "      <td>0</td>\n",
       "      <td>0</td>\n",
       "      <td>0</td>\n",
       "      <td>1</td>\n",
       "      <td>1</td>\n",
       "      <td>1</td>\n",
       "      <td>1</td>\n",
       "    </tr>\n",
       "    <tr>\n",
       "      <th>4</th>\n",
       "      <td>Father of the Bride Part II</td>\n",
       "      <td>0.000000</td>\n",
       "      <td>18.153832</td>\n",
       "      <td>0.000000</td>\n",
       "      <td>8.387519</td>\n",
       "      <td>5.7</td>\n",
       "      <td>173.0</td>\n",
       "      <td>2528</td>\n",
       "      <td>5.873770</td>\n",
       "      <td>1970.0</td>\n",
       "      <td>...</td>\n",
       "      <td>0</td>\n",
       "      <td>0</td>\n",
       "      <td>0</td>\n",
       "      <td>0</td>\n",
       "      <td>0</td>\n",
       "      <td>0</td>\n",
       "      <td>1</td>\n",
       "      <td>1</td>\n",
       "      <td>1</td>\n",
       "      <td>1</td>\n",
       "    </tr>\n",
       "  </tbody>\n",
       "</table>\n",
       "<p>5 rows × 95 columns</p>\n",
       "</div>"
      ],
      "text/plain": [
       "                         title  budget_log  revenue_log  profit_ratio  \\\n",
       "0                    Toy Story   17.216708    19.738573     11.451801   \n",
       "1                      Jumanji   17.989898    19.386893      3.043035   \n",
       "2             Grumpier Old Men    0.000000     0.000000      0.000000   \n",
       "3            Waiting to Exhale   16.588099    18.215526      4.090760   \n",
       "4  Father of the Bride Part II    0.000000    18.153832      0.000000   \n",
       "\n",
       "   popularity  vote_average  vote_count  director_encoded  \\\n",
       "0   21.946943           7.7      5415.0              2528   \n",
       "1   17.015539           6.9      2413.0              2528   \n",
       "2   11.712900           6.5        92.0              2528   \n",
       "3    3.859495           6.1        34.0              2528   \n",
       "4    8.387519           5.7       173.0              2528   \n",
       "\n",
       "   top_cast_avg_rating  release_year  ...  War  War  Western  Western  \\\n",
       "0             6.056255        1970.0  ...    0    0        0        0   \n",
       "1             6.051724        1970.0  ...    0    0        0        0   \n",
       "2             6.164306        1970.0  ...    0    0        0        0   \n",
       "3             5.641813        1970.0  ...    0    0        0        0   \n",
       "4             5.873770        1970.0  ...    0    0        0        0   \n",
       "\n",
       "   Western  Western  season_Winter  season_Winter  season_Winter  \\\n",
       "0        0        0              1              1              1   \n",
       "1        0        0              1              1              1   \n",
       "2        0        0              1              1              1   \n",
       "3        0        0              1              1              1   \n",
       "4        0        0              1              1              1   \n",
       "\n",
       "   season_Winter  \n",
       "0              1  \n",
       "1              1  \n",
       "2              1  \n",
       "3              1  \n",
       "4              1  \n",
       "\n",
       "[5 rows x 95 columns]"
      ]
     },
     "execution_count": 79,
     "metadata": {},
     "output_type": "execute_result"
    }
   ],
   "source": [
    "\n",
    "final_df2 = clean_df2[final_cols].copy()\n",
    "\n",
    "# -----------------------------\n",
    "# ✅ Preview\n",
    "# -----------------------------\n",
    "final_df2.head()"
   ]
  },
  {
   "cell_type": "code",
   "execution_count": 80,
   "metadata": {},
   "outputs": [
    {
     "data": {
      "text/plain": [
       "Index(['title', 'budget_log', 'revenue_log', 'profit_ratio', 'popularity',\n",
       "       'vote_average', 'vote_count', 'director_encoded', 'top_cast_avg_rating',\n",
       "       'release_year', 'release_month', 'Action', 'Action', 'Action', 'Action',\n",
       "       'Adventure', 'Adventure', 'Adventure', 'Adventure', 'Animation',\n",
       "       'Animation', 'Animation', 'Animation', 'Comedy', 'Comedy', 'Comedy',\n",
       "       'Comedy', 'Crime', 'Crime', 'Crime', 'Crime', 'Documentary',\n",
       "       'Documentary', 'Documentary', 'Documentary', 'Drama', 'Drama', 'Drama',\n",
       "       'Drama', 'Family', 'Family', 'Family', 'Family', 'Fantasy', 'Fantasy',\n",
       "       'Fantasy', 'Fantasy', 'Foreign', 'Foreign', 'Foreign', 'Foreign',\n",
       "       'History', 'History', 'History', 'History', 'Horror', 'Horror',\n",
       "       'Horror', 'Horror', 'Music', 'Music', 'Music', 'Music', 'Mystery',\n",
       "       'Mystery', 'Mystery', 'Mystery', 'Romance', 'Romance', 'Romance',\n",
       "       'Romance', 'Science Fiction', 'Science Fiction', 'Science Fiction',\n",
       "       'Science Fiction', 'TV Movie', 'TV Movie', 'TV Movie', 'TV Movie',\n",
       "       'Thriller', 'Thriller', 'Thriller', 'Thriller', 'War', 'War', 'War',\n",
       "       'War', 'Western', 'Western', 'Western', 'Western', 'season_Winter',\n",
       "       'season_Winter', 'season_Winter', 'season_Winter'],\n",
       "      dtype='object')"
      ]
     },
     "execution_count": 80,
     "metadata": {},
     "output_type": "execute_result"
    }
   ],
   "source": [
    "final_df2.columns"
   ]
  },
  {
   "cell_type": "code",
   "execution_count": 81,
   "metadata": {},
   "outputs": [
    {
     "data": {
      "text/plain": [
       "Index(['Unnamed: 0', 'budget', 'popularity', 'vote_count',\n",
       "       'top_cast_avg_rating', 'director_encoded', 'release_year',\n",
       "       'release_month', 'Action', 'Adventure', 'Animation', 'Comedy', 'Crime',\n",
       "       'Documentary', 'Drama', 'Family', 'Fantasy', 'Foreign', 'History',\n",
       "       'Horror', 'Music', 'Mystery', 'Romance', 'Science Fiction', 'TV Movie',\n",
       "       'Thriller', 'War', 'Western', 'title', 'genres', 'director', 'top_cast',\n",
       "       'release_date', 'vote_average', 'revenue'],\n",
       "      dtype='object')"
      ]
     },
     "execution_count": 81,
     "metadata": {},
     "output_type": "execute_result"
    }
   ],
   "source": [
    "clean_df.columns"
   ]
  },
  {
   "cell_type": "code",
   "execution_count": 82,
   "metadata": {},
   "outputs": [],
   "source": [
    "final_df2.to_csv('second_cleaned_dataset.csv')"
   ]
  },
  {
   "cell_type": "code",
   "execution_count": null,
   "metadata": {},
   "outputs": [],
   "source": []
  }
 ],
 "metadata": {
  "kernelspec": {
   "display_name": "Python 3",
   "language": "python",
   "name": "python3"
  },
  "language_info": {
   "codemirror_mode": {
    "name": "ipython",
    "version": 3
   },
   "file_extension": ".py",
   "mimetype": "text/x-python",
   "name": "python",
   "nbconvert_exporter": "python",
   "pygments_lexer": "ipython3",
   "version": "3.9.0"
  }
 },
 "nbformat": 4,
 "nbformat_minor": 2
}
