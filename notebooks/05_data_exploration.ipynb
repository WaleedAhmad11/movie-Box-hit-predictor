{
 "cells": [
  {
   "cell_type": "code",
   "execution_count": 8,
   "metadata": {},
   "outputs": [
    {
     "name": "stderr",
     "output_type": "stream",
     "text": [
      "C:\\Users\\l1f22bscs0387\\AppData\\Local\\Temp\\ipykernel_19344\\2581699948.py:16: FutureWarning: The behavior of DataFrame concatenation with empty or all-NA entries is deprecated. In a future version, this will no longer exclude empty or all-NA columns when determining the result dtypes. To retain the old behavior, exclude the relevant entries before the concat operation.\n",
      "  df_combined = pd.concat([df_old[all_columns], df_new[all_columns]], ignore_index=True)\n"
     ]
    }
   ],
   "source": [
    "import pandas as pd\n",
    "\n",
    "# === Load both datasets ===\n",
    "df_old = pd.read_csv(r\"C:\\Users\\l1f22bscs0387\\Desktop\\movie-Box-hit-predictor\\data_cleaned\\combined_movies_cleaned.csv\")\n",
    "df_new = pd.read_csv(r\"C:\\Users\\l1f22bscs0387\\Desktop\\movie-Box-hit-predictor\\data_cleaned\\tmdb_data_cleaned.csv\")\n",
    "\n",
    "# === Add missing columns to align structure ===\n",
    "all_columns = list(set(df_old.columns).union(set(df_new.columns)))  # ✅ convert to list\n",
    "for col in all_columns:\n",
    "    if col not in df_old.columns:\n",
    "        df_old[col] = None\n",
    "    if col not in df_new.columns:\n",
    "        df_new[col] = None\n",
    "\n",
    "# === Combine both datasets ===\n",
    "df_combined = pd.concat([df_old[all_columns], df_new[all_columns]], ignore_index=True)\n",
    "\n",
    "# === Drop duplicates (by title and release_year if exists) ===\n",
    "if \"release_year\" in df_combined.columns:\n",
    "    df_combined.drop_duplicates(subset=[\"title\", \"release_year\"], inplace=True)\n",
    "else:\n",
    "    df_combined.drop_duplicates(subset=[\"title\"], inplace=True)\n",
    "\n",
    "# === Save combined dataset ===\n",
    "df_combined.to_csv(\"final_cleaned_data.csv\", index=False)\n",
    "\n"
   ]
  },
  {
   "cell_type": "code",
   "execution_count": 10,
   "metadata": {},
   "outputs": [
    {
     "data": {
      "text/plain": [
       "Index(['History', 'Action', 'Documentary', 'release_date', 'vote_count',\n",
       "       'release_year', 'release_month', 'Animation', 'profit_ratio', 'Romance',\n",
       "       'budget_log', 'Adventure', 'director_encoded', 'Thriller',\n",
       "       'original_language', 'id', 'Unnamed: 0', 'TV Movie', 'Western', 'War',\n",
       "       'vote_average', 'genres', 'Horror', 'top_cast_avg_rating', 'revenue',\n",
       "       'Mystery', 'Foreign', 'Comedy', 'overview', 'title', 'popularity',\n",
       "       'Family', 'adult', 'Science Fiction', 'Crime', 'Music', 'Fantasy',\n",
       "       'Drama', 'revenue_log', 'budget'],\n",
       "      dtype='object')"
      ]
     },
     "execution_count": 10,
     "metadata": {},
     "output_type": "execute_result"
    }
   ],
   "source": [
    "df_combined.columns"
   ]
  },
  {
   "cell_type": "code",
   "execution_count": null,
   "metadata": {},
   "outputs": [],
   "source": []
  }
 ],
 "metadata": {
  "kernelspec": {
   "display_name": "Python (myenv)",
   "language": "python",
   "name": "myenv"
  },
  "language_info": {
   "codemirror_mode": {
    "name": "ipython",
    "version": 3
   },
   "file_extension": ".py",
   "mimetype": "text/x-python",
   "name": "python",
   "nbconvert_exporter": "python",
   "pygments_lexer": "ipython3",
   "version": "3.9.0"
  }
 },
 "nbformat": 4,
 "nbformat_minor": 2
}
